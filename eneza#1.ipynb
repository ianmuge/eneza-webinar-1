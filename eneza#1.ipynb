{
  "cells": [
    {
      "cell_type": "markdown",
      "source": [
        "# Requirements Preparation\n",
        "Install requirements for the session and save them for reuse (Environment recreation)"
      ],
      "metadata": {}
    },
    {
      "cell_type": "markdown",
      "source": [
        "# Requirements Import\n",
        "Import base requirements for this section\n",
        "*It's advisable to import just what you need to reduce the data held in memory*"
      ],
      "metadata": {}
    },
    {
      "cell_type": "code",
      "source": [
        "from bs4 import BeautifulSoup as bs #for scraping\n",
        "import pandas as pd #data manipulation\n",
        "import requests #http requests\n",
        "import re #regex manipulation\n",
        "import os #system access"
      ],
      "execution_count": 1,
      "outputs": [],
      "metadata": {}
    },
    {
      "cell_type": "markdown",
      "source": [
        "# Data Discovery and Testing\n",
        "Let's perform some basic data discovery"
      ],
      "metadata": {}
    },
    {
      "cell_type": "code",
      "source": [
        "main_url=\"http://books.toscrape.com/\"\n",
        "result = requests.get(main_url)\n",
        "print(result.text[:1000])"
      ],
      "execution_count": 2,
      "outputs": [
        {
          "output_type": "stream",
          "name": "stdout",
          "text": "<!DOCTYPE html>\n<!--[if lt IE 7]>      <html lang=\"en-us\" class=\"no-js lt-ie9 lt-ie8 lt-ie7\"> <![endif]-->\n<!--[if IE 7]>         <html lang=\"en-us\" class=\"no-js lt-ie9 lt-ie8\"> <![endif]-->\n<!--[if IE 8]>         <html lang=\"en-us\" class=\"no-js lt-ie9\"> <![endif]-->\n<!--[if gt IE 8]><!--> <html lang=\"en-us\" class=\"no-js\"> <!--<![endif]-->\n    <head>\n        <title>\n    All products | Books to Scrape - Sandbox\n</title>\n\n        <meta http-equiv=\"content-type\" content=\"text/html; charset=UTF-8\" />\n        <meta name=\"created\" content=\"24th Jun 2016 09:29\" />\n        <meta name=\"description\" content=\"\" />\n        <meta name=\"viewport\" content=\"width=device-width\" />\n        <meta name=\"robots\" content=\"NOARCHIVE,NOCACHE\" />\n\n        <!-- Le HTML5 shim, for IE6-8 support of HTML elements -->\n        <!--[if lt IE 9]>\n        <script src=\"//html5shim.googlecode.com/svn/trunk/html5.js\"></script>\n        <![endif]-->\n\n        \n            <link rel=\"shortcut icon\" href=\"static/oscar/favicon.\n"
        }
      ],
      "metadata": {
        "tags": []
      }
    },
    {
      "cell_type": "code",
      "source": [
        "soup = bs(result.text, 'html.parser')\n",
        "\n",
        "print(soup.prettify()[:1000])"
      ],
      "execution_count": 3,
      "outputs": [
        {
          "output_type": "stream",
          "name": "stdout",
          "text": "<!DOCTYPE html>\n<!--[if lt IE 7]>      <html lang=\"en-us\" class=\"no-js lt-ie9 lt-ie8 lt-ie7\"> <![endif]-->\n<!--[if IE 7]>         <html lang=\"en-us\" class=\"no-js lt-ie9 lt-ie8\"> <![endif]-->\n<!--[if IE 8]>         <html lang=\"en-us\" class=\"no-js lt-ie9\"> <![endif]-->\n<!--[if gt IE 8]><!-->\n<html class=\"no-js\" lang=\"en-us\">\n <!--<![endif]-->\n <head>\n  <title>\n   All products | Books to Scrape - Sandbox\n  </title>\n  <meta content=\"text/html; charset=utf-8\" http-equiv=\"content-type\"/>\n  <meta content=\"24th Jun 2016 09:29\" name=\"created\"/>\n  <meta content=\"\" name=\"description\"/>\n  <meta content=\"width=device-width\" name=\"viewport\"/>\n  <meta content=\"NOARCHIVE,NOCACHE\" name=\"robots\"/>\n  <!-- Le HTML5 shim, for IE6-8 support of HTML elements -->\n  <!--[if lt IE 9]>\n        <script src=\"//html5shim.googlecode.com/svn/trunk/html5.js\"></script>\n        <![endif]-->\n  <link href=\"static/oscar/favicon.ico\" rel=\"shortcut icon\"/>\n  <link href=\"static/oscar/css/styles.css\" rel=\"stylesheet\" type=\"tex\n"
        }
      ],
      "metadata": {
        "tags": []
      }
    },
    {
      "cell_type": "markdown",
      "source": [
        "Function to fetch and parse any page"
      ],
      "metadata": {}
    },
    {
      "cell_type": "code",
      "source": [
        "def getAndParseURL(url):\n",
        "    result = requests.get(url)\n",
        "    soup = bs(result.text, 'html.parser')\n",
        "    return soup"
      ],
      "execution_count": 4,
      "outputs": [],
      "metadata": {}
    },
    {
      "cell_type": "markdown",
      "source": [
        "We continue some data discovery and testing"
      ],
      "metadata": {}
    },
    {
      "cell_type": "code",
      "source": [
        "soup.find(\"article\", class_ = \"product_pod\") #get first product section"
      ],
      "execution_count": 5,
      "outputs": [
        {
          "output_type": "execute_result",
          "data": {
            "text/plain": "<article class=\"product_pod\">\n<div class=\"image_container\">\n<a href=\"catalogue/a-light-in-the-attic_1000/index.html\"><img alt=\"A Light in the Attic\" class=\"thumbnail\" src=\"media/cache/2c/da/2cdad67c44b002e7ead0cc35693c0e8b.jpg\"/></a>\n</div>\n<p class=\"star-rating Three\">\n<i class=\"icon-star\"></i>\n<i class=\"icon-star\"></i>\n<i class=\"icon-star\"></i>\n<i class=\"icon-star\"></i>\n<i class=\"icon-star\"></i>\n</p>\n<h3><a href=\"catalogue/a-light-in-the-attic_1000/index.html\" title=\"A Light in the Attic\">A Light in the ...</a></h3>\n<div class=\"product_price\">\n<p class=\"price_color\">Â£51.77</p>\n<p class=\"instock availability\">\n<i class=\"icon-ok\"></i>\n    \n        In stock\n    \n</p>\n<form>\n<button class=\"btn btn-primary btn-block\" data-loading-text=\"Adding...\" type=\"submit\">Add to basket</button>\n</form>\n</div>\n</article>"
          },
          "metadata": {},
          "execution_count": 5
        }
      ],
      "metadata": {}
    },
    {
      "cell_type": "markdown",
      "source": [
        "Get the actual product URL"
      ],
      "metadata": {}
    },
    {
      "cell_type": "code",
      "source": [
        "soup.find(\"article\", class_ = \"product_pod\").div.a.get('href')"
      ],
      "execution_count": 6,
      "outputs": [
        {
          "output_type": "execute_result",
          "data": {
            "text/plain": "'catalogue/a-light-in-the-attic_1000/index.html'"
          },
          "metadata": {},
          "execution_count": 6
        }
      ],
      "metadata": {}
    },
    {
      "cell_type": "markdown",
      "source": [
        "Get all the product URLs from the first page"
      ],
      "metadata": {}
    },
    {
      "cell_type": "code",
      "source": [
        "main_page_products_urls = [x.div.a.get('href') for x in soup.findAll(\"article\", class_ = \"product_pod\")]\n",
        "\n",
        "print(str(len(main_page_products_urls)) + \" fetched products URLs\")\n",
        "main_page_products_urls"
      ],
      "execution_count": 7,
      "outputs": [
        {
          "output_type": "stream",
          "name": "stdout",
          "text": "20 fetched products URLs\n"
        },
        {
          "output_type": "execute_result",
          "data": {
            "text/plain": "['catalogue/a-light-in-the-attic_1000/index.html',\n 'catalogue/tipping-the-velvet_999/index.html',\n 'catalogue/soumission_998/index.html',\n 'catalogue/sharp-objects_997/index.html',\n 'catalogue/sapiens-a-brief-history-of-humankind_996/index.html',\n 'catalogue/the-requiem-red_995/index.html',\n 'catalogue/the-dirty-little-secrets-of-getting-your-dream-job_994/index.html',\n 'catalogue/the-coming-woman-a-novel-based-on-the-life-of-the-infamous-feminist-victoria-woodhull_993/index.html',\n 'catalogue/the-boys-in-the-boat-nine-americans-and-their-epic-quest-for-gold-at-the-1936-berlin-olympics_992/index.html',\n 'catalogue/the-black-maria_991/index.html',\n 'catalogue/starving-hearts-triangular-trade-trilogy-1_990/index.html',\n 'catalogue/shakespeares-sonnets_989/index.html',\n 'catalogue/set-me-free_988/index.html',\n 'catalogue/scott-pilgrims-precious-little-life-scott-pilgrim-1_987/index.html',\n 'catalogue/rip-it-up-and-start-again_986/index.html',\n 'catalogue/our-band-could-be-your-life-scenes-from-the-american-indie-underground-1981-1991_985/index.html',\n 'catalogue/olio_984/index.html',\n 'catalogue/mesaerion-the-best-science-fiction-stories-1800-1849_983/index.html',\n 'catalogue/libertarianism-for-beginners_982/index.html',\n 'catalogue/its-only-the-himalayas_981/index.html']"
          },
          "metadata": {},
          "execution_count": 7
        }
      ],
      "metadata": {
        "tags": []
      }
    },
    {
      "cell_type": "markdown",
      "source": [
        "Function to get the product urls and reformat part of the url"
      ],
      "metadata": {}
    },
    {
      "cell_type": "code",
      "source": [
        "\n",
        "def getBooksURLs(url):\n",
        "    soup = getAndParseURL(url)\n",
        "    # remove the index.html part of the base url before returning the results\n",
        "    return [\"/\".join(url.split(\"/\")[:-1]) + \"/\" + x.div.a.get('href') for x in soup.findAll(\"article\", class_ = \"product_pod\")]"
      ],
      "execution_count": 8,
      "outputs": [],
      "metadata": {}
    },
    {
      "cell_type": "markdown",
      "source": [
        "Get a list of the category urls"
      ],
      "metadata": {}
    },
    {
      "cell_type": "code",
      "source": [
        "categories_urls = [main_url + x.get('href') for x in soup.find_all(\"a\", href=re.compile(\"catalogue/category/books\"))]\n",
        "categories_urls = categories_urls[1:] # we remove the first one because it corresponds to all the books\n",
        "\n",
        "print(str(len(categories_urls)) + \" fetched categories URLs\")\n",
        "categories_urls"
      ],
      "execution_count": 9,
      "outputs": [
        {
          "output_type": "stream",
          "name": "stdout",
          "text": "50 fetched categories URLs\n"
        },
        {
          "output_type": "execute_result",
          "data": {
            "text/plain": "['http://books.toscrape.com/catalogue/category/books/travel_2/index.html',\n 'http://books.toscrape.com/catalogue/category/books/mystery_3/index.html',\n 'http://books.toscrape.com/catalogue/category/books/historical-fiction_4/index.html',\n 'http://books.toscrape.com/catalogue/category/books/sequential-art_5/index.html',\n 'http://books.toscrape.com/catalogue/category/books/classics_6/index.html',\n 'http://books.toscrape.com/catalogue/category/books/philosophy_7/index.html',\n 'http://books.toscrape.com/catalogue/category/books/romance_8/index.html',\n 'http://books.toscrape.com/catalogue/category/books/womens-fiction_9/index.html',\n 'http://books.toscrape.com/catalogue/category/books/fiction_10/index.html',\n 'http://books.toscrape.com/catalogue/category/books/childrens_11/index.html',\n 'http://books.toscrape.com/catalogue/category/books/religion_12/index.html',\n 'http://books.toscrape.com/catalogue/category/books/nonfiction_13/index.html',\n 'http://books.toscrape.com/catalogue/category/books/music_14/index.html',\n 'http://books.toscrape.com/catalogue/category/books/default_15/index.html',\n 'http://books.toscrape.com/catalogue/category/books/science-fiction_16/index.html',\n 'http://books.toscrape.com/catalogue/category/books/sports-and-games_17/index.html',\n 'http://books.toscrape.com/catalogue/category/books/add-a-comment_18/index.html',\n 'http://books.toscrape.com/catalogue/category/books/fantasy_19/index.html',\n 'http://books.toscrape.com/catalogue/category/books/new-adult_20/index.html',\n 'http://books.toscrape.com/catalogue/category/books/young-adult_21/index.html',\n 'http://books.toscrape.com/catalogue/category/books/science_22/index.html',\n 'http://books.toscrape.com/catalogue/category/books/poetry_23/index.html',\n 'http://books.toscrape.com/catalogue/category/books/paranormal_24/index.html',\n 'http://books.toscrape.com/catalogue/category/books/art_25/index.html',\n 'http://books.toscrape.com/catalogue/category/books/psychology_26/index.html',\n 'http://books.toscrape.com/catalogue/category/books/autobiography_27/index.html',\n 'http://books.toscrape.com/catalogue/category/books/parenting_28/index.html',\n 'http://books.toscrape.com/catalogue/category/books/adult-fiction_29/index.html',\n 'http://books.toscrape.com/catalogue/category/books/humor_30/index.html',\n 'http://books.toscrape.com/catalogue/category/books/horror_31/index.html',\n 'http://books.toscrape.com/catalogue/category/books/history_32/index.html',\n 'http://books.toscrape.com/catalogue/category/books/food-and-drink_33/index.html',\n 'http://books.toscrape.com/catalogue/category/books/christian-fiction_34/index.html',\n 'http://books.toscrape.com/catalogue/category/books/business_35/index.html',\n 'http://books.toscrape.com/catalogue/category/books/biography_36/index.html',\n 'http://books.toscrape.com/catalogue/category/books/thriller_37/index.html',\n 'http://books.toscrape.com/catalogue/category/books/contemporary_38/index.html',\n 'http://books.toscrape.com/catalogue/category/books/spirituality_39/index.html',\n 'http://books.toscrape.com/catalogue/category/books/academic_40/index.html',\n 'http://books.toscrape.com/catalogue/category/books/self-help_41/index.html',\n 'http://books.toscrape.com/catalogue/category/books/historical_42/index.html',\n 'http://books.toscrape.com/catalogue/category/books/christian_43/index.html',\n 'http://books.toscrape.com/catalogue/category/books/suspense_44/index.html',\n 'http://books.toscrape.com/catalogue/category/books/short-stories_45/index.html',\n 'http://books.toscrape.com/catalogue/category/books/novels_46/index.html',\n 'http://books.toscrape.com/catalogue/category/books/health_47/index.html',\n 'http://books.toscrape.com/catalogue/category/books/politics_48/index.html',\n 'http://books.toscrape.com/catalogue/category/books/cultural_49/index.html',\n 'http://books.toscrape.com/catalogue/category/books/erotica_50/index.html',\n 'http://books.toscrape.com/catalogue/category/books/crime_51/index.html']"
          },
          "metadata": {},
          "execution_count": 9
        }
      ],
      "metadata": {
        "tags": []
      }
    },
    {
      "cell_type": "markdown",
      "source": [
        "Get all the catalogue urls we shall parse and fetch product urls"
      ],
      "metadata": {}
    },
    {
      "cell_type": "code",
      "source": [
        "# store all the results into a list\n",
        "pages_urls = [main_url]\n",
        "\n",
        "soup = getAndParseURL(pages_urls[0])\n",
        "\n",
        "# while we get two matches, this means that the webpage contains a 'previous' and a 'next' button\n",
        "# if there is only one button, this means that we are either on the first page or on the last page\n",
        "# we stop when we get to the last page\n",
        "\n",
        "while len(soup.findAll(\"a\", href=re.compile(\"page\"))) == 2 or len(pages_urls) == 1:\n",
        "    \n",
        "    # get the new complete url by adding the fetched URL to the base URL (and removing the .html part of the base URL)\n",
        "    new_url = \"/\".join(pages_urls[-1].split(\"/\")[:-1]) + \"/\" + soup.findAll(\"a\", href=re.compile(\"page\"))[-1].get(\"href\")\n",
        "    \n",
        "    # add the URL to the list\n",
        "    pages_urls.append(new_url)\n",
        "    \n",
        "    # parse the next page\n",
        "    soup = getAndParseURL(new_url)\n",
        "    \n",
        "\n",
        "print(str(len(pages_urls)) + \" fetched URLs\")\n",
        "\n",
        "pages_urls"
      ],
      "execution_count": 10,
      "outputs": [
        {
          "output_type": "stream",
          "name": "stdout",
          "text": "50 fetched URLs\n"
        },
        {
          "output_type": "execute_result",
          "data": {
            "text/plain": "['http://books.toscrape.com/',\n 'http://books.toscrape.com/catalogue/page-2.html',\n 'http://books.toscrape.com/catalogue/page-3.html',\n 'http://books.toscrape.com/catalogue/page-4.html',\n 'http://books.toscrape.com/catalogue/page-5.html',\n 'http://books.toscrape.com/catalogue/page-6.html',\n 'http://books.toscrape.com/catalogue/page-7.html',\n 'http://books.toscrape.com/catalogue/page-8.html',\n 'http://books.toscrape.com/catalogue/page-9.html',\n 'http://books.toscrape.com/catalogue/page-10.html',\n 'http://books.toscrape.com/catalogue/page-11.html',\n 'http://books.toscrape.com/catalogue/page-12.html',\n 'http://books.toscrape.com/catalogue/page-13.html',\n 'http://books.toscrape.com/catalogue/page-14.html',\n 'http://books.toscrape.com/catalogue/page-15.html',\n 'http://books.toscrape.com/catalogue/page-16.html',\n 'http://books.toscrape.com/catalogue/page-17.html',\n 'http://books.toscrape.com/catalogue/page-18.html',\n 'http://books.toscrape.com/catalogue/page-19.html',\n 'http://books.toscrape.com/catalogue/page-20.html',\n 'http://books.toscrape.com/catalogue/page-21.html',\n 'http://books.toscrape.com/catalogue/page-22.html',\n 'http://books.toscrape.com/catalogue/page-23.html',\n 'http://books.toscrape.com/catalogue/page-24.html',\n 'http://books.toscrape.com/catalogue/page-25.html',\n 'http://books.toscrape.com/catalogue/page-26.html',\n 'http://books.toscrape.com/catalogue/page-27.html',\n 'http://books.toscrape.com/catalogue/page-28.html',\n 'http://books.toscrape.com/catalogue/page-29.html',\n 'http://books.toscrape.com/catalogue/page-30.html',\n 'http://books.toscrape.com/catalogue/page-31.html',\n 'http://books.toscrape.com/catalogue/page-32.html',\n 'http://books.toscrape.com/catalogue/page-33.html',\n 'http://books.toscrape.com/catalogue/page-34.html',\n 'http://books.toscrape.com/catalogue/page-35.html',\n 'http://books.toscrape.com/catalogue/page-36.html',\n 'http://books.toscrape.com/catalogue/page-37.html',\n 'http://books.toscrape.com/catalogue/page-38.html',\n 'http://books.toscrape.com/catalogue/page-39.html',\n 'http://books.toscrape.com/catalogue/page-40.html',\n 'http://books.toscrape.com/catalogue/page-41.html',\n 'http://books.toscrape.com/catalogue/page-42.html',\n 'http://books.toscrape.com/catalogue/page-43.html',\n 'http://books.toscrape.com/catalogue/page-44.html',\n 'http://books.toscrape.com/catalogue/page-45.html',\n 'http://books.toscrape.com/catalogue/page-46.html',\n 'http://books.toscrape.com/catalogue/page-47.html',\n 'http://books.toscrape.com/catalogue/page-48.html',\n 'http://books.toscrape.com/catalogue/page-49.html',\n 'http://books.toscrape.com/catalogue/page-50.html']"
          },
          "metadata": {},
          "execution_count": 10
        }
      ],
      "metadata": {
        "tags": []
      }
    },
    {
      "cell_type": "markdown",
      "source": [
        "Alternatively, as we know the limits for the pages, we can generate and test the urls "
      ],
      "metadata": {}
    },
    {
      "cell_type": "code",
      "source": [
        "pages_urls = []\n",
        "\n",
        "new_page = \"http://books.toscrape.com/catalogue/page-1.html\"\n",
        "while requests.get(new_page).status_code == 200:\n",
        "    pages_urls.append(new_page)\n",
        "    new_page = pages_urls[-1].split(\"-\")[0] + \"-\" + str(int(pages_urls[-1].split(\"-\")[1].split(\".\")[0]) + 1) + \".html\"\n",
        "    \n",
        "\n",
        "print(str(len(pages_urls)) + \" fetched URLs\")\n",
        "\n",
        "pages_urls"
      ],
      "execution_count": 11,
      "outputs": [
        {
          "output_type": "stream",
          "name": "stdout",
          "text": "50 fetched URLs\n"
        },
        {
          "output_type": "execute_result",
          "data": {
            "text/plain": "['http://books.toscrape.com/catalogue/page-1.html',\n 'http://books.toscrape.com/catalogue/page-2.html',\n 'http://books.toscrape.com/catalogue/page-3.html',\n 'http://books.toscrape.com/catalogue/page-4.html',\n 'http://books.toscrape.com/catalogue/page-5.html',\n 'http://books.toscrape.com/catalogue/page-6.html',\n 'http://books.toscrape.com/catalogue/page-7.html',\n 'http://books.toscrape.com/catalogue/page-8.html',\n 'http://books.toscrape.com/catalogue/page-9.html',\n 'http://books.toscrape.com/catalogue/page-10.html',\n 'http://books.toscrape.com/catalogue/page-11.html',\n 'http://books.toscrape.com/catalogue/page-12.html',\n 'http://books.toscrape.com/catalogue/page-13.html',\n 'http://books.toscrape.com/catalogue/page-14.html',\n 'http://books.toscrape.com/catalogue/page-15.html',\n 'http://books.toscrape.com/catalogue/page-16.html',\n 'http://books.toscrape.com/catalogue/page-17.html',\n 'http://books.toscrape.com/catalogue/page-18.html',\n 'http://books.toscrape.com/catalogue/page-19.html',\n 'http://books.toscrape.com/catalogue/page-20.html',\n 'http://books.toscrape.com/catalogue/page-21.html',\n 'http://books.toscrape.com/catalogue/page-22.html',\n 'http://books.toscrape.com/catalogue/page-23.html',\n 'http://books.toscrape.com/catalogue/page-24.html',\n 'http://books.toscrape.com/catalogue/page-25.html',\n 'http://books.toscrape.com/catalogue/page-26.html',\n 'http://books.toscrape.com/catalogue/page-27.html',\n 'http://books.toscrape.com/catalogue/page-28.html',\n 'http://books.toscrape.com/catalogue/page-29.html',\n 'http://books.toscrape.com/catalogue/page-30.html',\n 'http://books.toscrape.com/catalogue/page-31.html',\n 'http://books.toscrape.com/catalogue/page-32.html',\n 'http://books.toscrape.com/catalogue/page-33.html',\n 'http://books.toscrape.com/catalogue/page-34.html',\n 'http://books.toscrape.com/catalogue/page-35.html',\n 'http://books.toscrape.com/catalogue/page-36.html',\n 'http://books.toscrape.com/catalogue/page-37.html',\n 'http://books.toscrape.com/catalogue/page-38.html',\n 'http://books.toscrape.com/catalogue/page-39.html',\n 'http://books.toscrape.com/catalogue/page-40.html',\n 'http://books.toscrape.com/catalogue/page-41.html',\n 'http://books.toscrape.com/catalogue/page-42.html',\n 'http://books.toscrape.com/catalogue/page-43.html',\n 'http://books.toscrape.com/catalogue/page-44.html',\n 'http://books.toscrape.com/catalogue/page-45.html',\n 'http://books.toscrape.com/catalogue/page-46.html',\n 'http://books.toscrape.com/catalogue/page-47.html',\n 'http://books.toscrape.com/catalogue/page-48.html',\n 'http://books.toscrape.com/catalogue/page-49.html',\n 'http://books.toscrape.com/catalogue/page-50.html']"
          },
          "metadata": {},
          "execution_count": 11
        }
      ],
      "metadata": {
        "tags": []
      }
    },
    {
      "cell_type": "markdown",
      "source": [
        "We now fetch and store all the product URLS"
      ],
      "metadata": {}
    },
    {
      "cell_type": "code",
      "source": [
        "%%time\n",
        "booksURLs = []\n",
        "for page in pages_urls:\n",
        "    booksURLs.extend(getBooksURLs(page))\n",
        "print(str(len(booksURLs)) + \" fetched URLs\")\n",
        "booksURLs"
      ],
      "execution_count": 13,
      "outputs": [
        {
          "output_type": "stream",
          "name": "stdout",
          "text": "1000 fetched URLs\nWall time: 24.4 s\n"
        },
        {
          "output_type": "execute_result",
          "data": {
            "text/plain": "',\n 'http://books.toscrape.com/catalogue/the-blind-side-evolution-of-a-game_231/index.html',\n 'http://books.toscrape.com/catalogue/the-autobiography-of-malcolm-x_230/index.html',\n 'http://books.toscrape.com/catalogue/the-art-of-simple-food-notes-lessons-and-recipes-from-a-delicious-revolution_229/index.html',\n 'http://books.toscrape.com/catalogue/the-art-of-fielding_228/index.html',\n 'http://books.toscrape.com/catalogue/surely-youre-joking-mr-feynman-adventures-of-a-curious-character_227/index.html',\n 'http://books.toscrape.com/catalogue/stiff-the-curious-lives-of-human-cadavers_226/index.html',\n 'http://books.toscrape.com/catalogue/spilled-milk-based-on-a-true-story_225/index.html',\n 'http://books.toscrape.com/catalogue/something-borrowed-darcy-rachel-1_224/index.html',\n 'http://books.toscrape.com/catalogue/something-blue-darcy-rachel-2_223/index.html',\n 'http://books.toscrape.com/catalogue/soldier-talon-3_222/index.html',\n 'http://books.toscrape.com/catalogue/shopaholic-baby-shopaholic-5_221/index.html',\n 'http://books.toscrape.com/catalogue/seven-days-in-the-art-world_220/index.html',\n 'http://books.toscrape.com/catalogue/seven-brief-lessons-on-physics_219/index.html',\n 'http://books.toscrape.com/catalogue/scarlet-the-lunar-chronicles-2_218/index.html',\n 'http://books.toscrape.com/catalogue/sarahs-key_217/index.html',\n 'http://books.toscrape.com/catalogue/saga-volume-3-saga-collected-editions-3_216/index.html',\n 'http://books.toscrape.com/catalogue/running-with-scissors_215/index.html',\n 'http://books.toscrape.com/catalogue/rogue-lawyer-rogue-lawyer-1_214/index.html',\n 'http://books.toscrape.com/catalogue/rise-of-the-rocket-girls-the-women-who-propelled-us-from-missiles-to-the-moon-to-mars_213/index.html',\n 'http://books.toscrape.com/catalogue/rework_212/index.html',\n 'http://books.toscrape.com/catalogue/reservations-for-two_211/index.html',\n 'http://books.toscrape.com/catalogue/red-the-true-story-of-red-riding-hood_210/index.html',\n 'http://books.toscrape.com/catalogue/ready-player-one_209/index.html',\n 'http://books.toscrape.com/catalogue/quiet-the-power-of-introverts-in-a-world-that-cant-stop-talking_208/index.html',\n 'http://books.toscrape.com/catalogue/prodigy-the-graphic-novel-legend-the-graphic-novel-2_207/index.html',\n 'http://books.toscrape.com/catalogue/persepolis-the-story-of-a-childhood-persepolis-1-2_206/index.html',\n 'http://books.toscrape.com/catalogue/packing-for-mars-the-curious-science-of-life-in-the-void_205/index.html',\n 'http://books.toscrape.com/catalogue/outliers-the-story-of-success_204/index.html',\n 'http://books.toscrape.com/catalogue/original-fake_203/index.html',\n 'http://books.toscrape.com/catalogue/orange-is-the-new-black_202/index.html',\n 'http://books.toscrape.com/catalogue/one-for-the-money-stephanie-plum-1_201/index.html',\n 'http://books.toscrape.com/catalogue/notes-from-a-small-island-notes-from-a-small-island-1_200/index.html',\n 'http://books.toscrape.com/catalogue/night-the-night-trilogy-1_199/index.html',\n 'http://books.toscrape.com/catalogue/neither-here-nor-there-travels-in-europe_198/index.html',\n 'http://books.toscrape.com/catalogue/naked_197/index.html',\n 'http://books.toscrape.com/catalogue/morning-star-red-rising-3_196/index.html',\n 'http://books.toscrape.com/catalogue/miracles-from-heaven-a-little-girl-her-journey-to-heaven-and-her-amazing-story-of-healing_195/index.html',\n 'http://books.toscrape.com/catalogue/midnight-riot-peter-grant-rivers-of-london-books-1_194/index.html',\n 'http://books.toscrape.com/catalogue/me-talk-pretty-one-day_193/index.html',\n 'http://books.toscrape.com/catalogue/manuscript-found-in-accra_192/index.html',\n 'http://books.toscrape.com/catalogue/lust-wonder_191/index.html',\n 'http://books.toscrape.com/catalogue/lila-gilead-3_190/index.html',\n 'http://books.toscrape.com/catalogue/life-the-universe-and-everything-hitchhikers-guide-to-the-galaxy-3_189/index.html',\n 'http://books.toscrape.com/catalogue/life-without-a-recipe_188/index.html',\n 'http://books.toscrape.com/catalogue/life-after-life_187/index.html',\n 'http://books.toscrape.com/catalogue/letter-to-a-christian-nation_186/index.html',\n 'http://books.toscrape.com/catalogue/lets-pretend-this-never-happened-a-mostly-true-memoir_185/index.html',\n 'http://books.toscrape.com/catalogue/legend-legend-1_184/index.html',\n 'http://books.toscrape.com/catalogue/lean-in-women-work-and-the-will-to-lead_183/index.html',\n 'http://books.toscrape.com/catalogue/lamb-the-gospel-according-to-biff-christs-childhood-pal_182/index.html',\n 'http://books.toscrape.com/catalogue/lady-renegades-rebel-belle-3_181/index.html',\n 'http://books.toscrape.com/catalogue/jurassic-park-jurassic-park-1_180/index.html',\n 'http://books.toscrape.com/catalogue/its-never-too-late-to-begin-again-discovering-creativity-and-meaning-at-midlife-and-beyond_179/index.html',\n 'http://books.toscrape.com/catalogue/is-everyone-hanging-out-without-me-and-other-concerns_178/index.html',\n 'http://books.toscrape.com/catalogue/into-the-wild_177/index.html',\n 'http://books.toscrape.com/catalogue/inferno-robert-langdon-4_176/index.html',\n 'http://books.toscrape.com/catalogue/in-the-garden-of-beasts-love-terror-and-an-american-family-in-hitlers-berlin_175/index.html',\n 'http://books.toscrape.com/catalogue/if-i-run-if-i-run-1_174/index.html',\n 'http://books.toscrape.com/catalogue/ive-got-your-number_173/index.html',\n 'http://books.toscrape.com/catalogue/i-am-malala-the-girl-who-stood-up-for-education-and-was-shot-by-the-taliban_172/index.html',\n 'http://books.toscrape.com/catalogue/hungry-girl-clean-hungry-easy-all-natural-recipes-for-healthy-eating-in-the-real-world_171/index.html',\n 'http://books.toscrape.com/catalogue/house-of-lost-worlds-dinosaurs-dynasties-and-the-story-of-life-on-earth_170/index.html',\n 'http://books.toscrape.com/catalogue/house-of-leaves_169/index.html',\n 'http://books.toscrape.com/catalogue/horrible-bear_168/index.html',\n 'http://books.toscrape.com/catalogue/holidays-on-ice_167/index.html',\n 'http://books.toscrape.com/catalogue/heir-to-the-sky_166/index.html',\n 'http://books.toscrape.com/catalogue/green-eggs-and-ham-beginner-books-b-16_165/index.html',\n 'http://books.toscrape.com/catalogue/grayson-vol-3-nemesis-grayson-3_164/index.html',\n 'http://books.toscrape.com/catalogue/gratitude_163/index.html',\n 'http://books.toscrape.com/catalogue/gone-girl_162/index.html',\n 'http://books.toscrape.com/catalogue/golden-heart-of-dread-3_161/index.html',\n 'http://books.toscrape.com/catalogue/girl-in-the-blue-coat_160/index.html',\n 'http://books.toscrape.com/catalogue/fruits-basket-vol-3-fruits-basket-3_159/index.html',\n 'http://books.toscrape.com/catalogue/friday-night-lights-a-town-a-team-and-a-dream_158/index.html',\n 'http://books.toscrape.com/catalogue/fire-bound-sea-havensisters-of-the-heart-5_157/index.html',\n 'http://books.toscrape.com/catalogue/fifty-shades-freed-fifty-shades-3_156/index.html',\n 'http://books.toscrape.com/catalogue/fellside_155/index.html',\n 'http://books.toscrape.com/catalogue/extreme-prey-lucas-davenport-26_154/index.html',\n 'http://books.toscrape.com/catalogue/eragon-the-inheritance-cycle-1_153/index.html',\n 'http://books.toscrape.com/catalogue/eclipse-twilight-3_152/index.html',\n 'http://books.toscrape.com/catalogue/dune-dune-1_151/index.html',\n 'http://books.toscrape.com/catalogue/dracula_150/index.html',\n 'http://books.toscrape.com/catalogue/do-androids-dream-of-electric-sheep-blade-runner-1_149/index.html',\n 'http://books.toscrape.com/catalogue/disrupted-my-misadventure-in-the-start-up-bubble_148/index.html',\n 'http://books.toscrape.com/catalogue/dead-wake-the-last-crossing-of-the-lusitania_147/index.html',\n 'http://books.toscrape.com/catalogue/david-and-goliath-underdogs-misfits-and-the-art-of-battling-giants_146/index.html',\n 'http://books.toscrape.com/catalogue/darkfever-fever-1_145/index.html',\n 'http://books.toscrape.com/catalogue/dark-places_144/index.html',\n 'http://books.toscrape.com/catalogue/crazy-rich-asians-crazy-rich-asians-1_143/index.html',\n 'http://books.toscrape.com/catalogue/counting-thyme_142/index.html',\n 'http://books.toscrape.com/catalogue/cosmos_141/index.html',\n 'http://books.toscrape.com/catalogue/civilization-and-its-discontents_140/index.html',\n 'http://books.toscrape.com/catalogue/cinder-the-lunar-chronicles-1_139/index.html',\n 'http://books.toscrape.com/catalogue/catastrophic-happiness-finding-joy-in-childhoods-messy-years_138/index.html',\n 'http://books.toscrape.com/catalogue/career-of-evil-cormoran-strike-3_137/index.html',\n 'http://books.toscrape.com/catalogue/breaking-dawn-twilight-4_136/index.html',\n 'http://books.toscrape.com/catalogue/brave-enough_135/index.html',\n 'http://books.toscrape.com/catalogue/boy-meets-boy_134/index.html',\n 'http://books.toscrape.com/catalogue/born-to-run-a-hidden-tribe-superathletes-and-the-greatest-race-the-world-has-never-seen_133/index.html',\n 'http://books.toscrape.com/catalogue/blink-the-power-of-thinking-without-thinking_132/index.html',\n 'http://books.toscrape.com/catalogue/black-flags-the-rise-of-isis_131/index.html',\n 'http://books.toscrape.com/catalogue/black-butler-vol-1-black-butler-1_130/index.html',\n 'http://books.toscrape.com/catalogue/big-little-lies_129/index.html',\n 'http://books.toscrape.com/catalogue/between-shades-of-gray_128/index.html',\n 'http://books.toscrape.com/catalogue/best-of-my-love-fools-gold-20_127/index.html',\n 'http://books.toscrape.com/catalogue/beowulf_126/index.html',\n 'http://books.toscrape.com/catalogue/beautiful-creatures-caster-chronicles-1_125/index.html',\n 'http://books.toscrape.com/catalogue/awkward_124/index.html',\n 'http://books.toscrape.com/catalogue/ash_123/index.html',\n 'http://books.toscrape.com/catalogue/are-we-there-yet_122/index.html',\n 'http://books.toscrape.com/catalogue/are-we-smart-enough-to-know-how-smart-animals-are_121/index.html',\n 'http://books.toscrape.com/catalogue/annie-on-my-mind_120/index.html',\n 'http://books.toscrape.com/catalogue/and-then-there-were-none_119/index.html',\n 'http://books.toscrape.com/catalogue/a-walk-in-the-woods-rediscovering-america-on-the-appalachian-trail_118/index.html',\n 'http://books.toscrape.com/catalogue/a-visit-from-the-goon-squad_117/index.html',\n 'http://books.toscrape.com/catalogue/a-storm-of-swords-a-song-of-ice-and-fire-3_116/index.html',\n 'http://books.toscrape.com/catalogue/a-heartbreaking-work-of-staggering-genius_115/index.html',\n 'http://books.toscrape.com/catalogue/8-keys-to-mental-health-through-exercise_114/index.html',\n 'http://books.toscrape.com/catalogue/girlboss_113/index.html',\n 'http://books.toscrape.com/catalogue/the-suffragettes-little-black-classics-96_112/index.html',\n 'http://books.toscrape.com/catalogue/the-sense-of-an-ending_111/index.html',\n 'http://books.toscrape.com/catalogue/the-sandman-vol-2-the-dolls-house-the-sandman-volumes-2_110/index.html',\n 'http://books.toscrape.com/catalogue/the-course-of-love_109/index.html',\n 'http://books.toscrape.com/catalogue/sugar-rush-offensive-line-2_108/index.html',\n 'http://books.toscrape.com/catalogue/saga-volume-2-saga-collected-editions-2_107/index.html',\n 'http://books.toscrape.com/catalogue/run-spot-run-the-ethics-of-keeping-pets_106/index.html',\n 'http://books.toscrape.com/catalogue/new-moon-twilight-2_105/index.html',\n 'http://books.toscrape.com/catalogue/life_104/index.html',\n 'http://books.toscrape.com/catalogue/kindle-paperwhite-users-guide_103/index.html',\n 'http://books.toscrape.com/catalogue/h-is-for-hawk_102/index.html',\n 'http://books.toscrape.com/catalogue/girl-online-on-tour-girl-online-2_101/index.html',\n 'http://books.toscrape.com/catalogue/fruits-basket-vol-2-fruits-basket-2_100/index.html',\n 'http://books.toscrape.com/catalogue/diary-of-a-minecraft-zombie-book-1-a-scare-of-a-dare-an-unofficial-minecraft-book_99/index.html',\n 'http://books.toscrape.com/catalogue/y-the-last-man-vol-1-unmanned-y-the-last-man-1_98/index.html',\n 'http://books.toscrape.com/catalogue/while-you-were-mine_97/index.html',\n 'http://books.toscrape.com/catalogue/where-lightning-strikes-bleeding-stars-3_96/index.html',\n 'http://books.toscrape.com/catalogue/when-im-gone_95/index.html',\n 'http://books.toscrape.com/catalogue/ways-of-seeing_94/index.html',\n 'http://books.toscrape.com/catalogue/vampire-knight-vol-1-vampire-knight-1_93/index.html',\n 'http://books.toscrape.com/catalogue/vampire-girl-vampire-girl-1_92/index.html',\n 'http://books.toscrape.com/catalogue/twenty-love-poems-and-a-song-of-despair_91/index.html',\n 'http://books.toscrape.com/catalogue/travels-with-charley-in-search-of-america_90/index.html',\n 'http://books.toscrape.com/catalogue/three-wishes-river-of-time-california-1_89/index.html',\n 'http://books.toscrape.com/catalogue/this-one-moment-pushing-limits-1_88/index.html',\n 'http://books.toscrape.com/catalogue/the-zombie-room_87/index.html',\n 'http://books.toscrape.com/catalogue/the-wicked-the-divine-vol-1-the-faust-act-the-wicked-the-divine_86/index.html',\n 'http://books.toscrape.com/catalogue/the-tumor_85/index.html',\n 'http://books.toscrape.com/catalogue/the-story-of-hong-gildong_84/index.html',\n 'http://books.toscrape.com/catalogue/the-silent-wife_83/index.html',\n 'http://books.toscrape.com/catalogue/the-silent-twin-detective-jennifer-knight-3_82/index.html',\n 'http://books.toscrape.com/catalogue/the-selfish-gene_81/index.html',\n 'http://books.toscrape.com/catalogue/the-secret-healer_80/index.html',\n 'http://books.toscrape.com/catalogue/the-sandman-vol-1-preludes-and-nocturnes-the-sandman-volumes-1_79/index.html',\n 'http://books.toscrape.com/catalogue/the-republic_78/index.html',\n 'http://books.toscrape.com/catalogue/the-odyssey_77/index.html',\n 'http://books.toscrape.com/catalogue/the-no-1-ladies-detective-agency-no-1-ladies-detective-agency-1_76/index.html',\n 'http://books.toscrape.com/catalogue/the-nicomachean-ethics_75/index.html',\n 'http://books.toscrape.com/catalogue/the-name-of-the-wind-the-kingkiller-chronicle-1_74/index.html',\n 'http://books.toscrape.com/catalogue/the-mirror-the-maze-the-wrath-and-the-dawn-15_73/index.html',\n 'http://books.toscrape.com/catalogue/the-little-prince_72/index.html',\n 'http://books.toscrape.com/catalogue/the-light-of-the-fireflies_71/index.html',\n 'http://books.toscrape.com/catalogue/the-last-girl-the-dominion-trilogy-1_70/index.html',\n 'http://books.toscrape.com/catalogue/the-iliad_69/index.html',\n 'http://books.toscrape.com/catalogue/the-hook-up-game-on-1_68/index.html',\n 'http://books.toscrape.com/catalogue/the-haters_67/index.html',\n 'http://books.toscrape.com/catalogue/the-girl-you-lost_66/index.html',\n 'http://books.toscrape.com/catalogue/the-girl-in-the-ice-dci-erika-foster-1_65/index.html',\n 'http://books.toscrape.com/catalogue/the-end-of-the-jesus-era-an-investigation-1_64/index.html',\n 'http://books.toscrape.com/catalogue/the-edge-of-reason-bridget-jones-2_63/index.html',\n 'http://books.toscrape.com/catalogue/the-complete-maus-maus-1-2_62/index.html',\n 'http://books.toscrape.com/catalogue/the-communist-manifesto_61/index.html',\n 'http://books.toscrape.com/catalogue/the-bhagavad-gita_60/index.html',\n 'http://books.toscrape.com/catalogue/the-bette-davis-club_59/index.html',\n 'http://books.toscrape.com/catalogue/the-art-of-not-breathing_58/index.html',\n 'http://books.toscrape.com/catalogue/taking-shots-assassins-1_57/index.html',\n 'http://books.toscrape.com/catalogue/starlark_56/index.html',\n 'http://books.toscrape.com/catalogue/skip-beat-vol-01-skip-beat-1_55/index.html',\n 'http://books.toscrape.com/catalogue/sister-sable-the-mad-queen-1_54/index.html',\n 'http://books.toscrape.com/catalogue/shatter-me-shatter-me-1_53/index.html',\n 'http://books.toscrape.com/catalogue/shameless_52/index.html',\n 'http://books.toscrape.com/catalogue/shadow-rites-jane-yellowrock-10_51/index.html',\n 'http://books.toscrape.com/catalogue/settling-the-score-the-summer-games-1_50/index.html',\n 'http://books.toscrape.com/catalogue/sense-and-sensibility_49/index.html',\n 'http://books.toscrape.com/catalogue/saga-volume-1-saga-collected-editions-1_48/index.html',\n 'http://books.toscrape.com/catalogue/rhythm-chord-malykhin_47/index.html',\n 'http://books.toscrape.com/catalogue/rat-queens-vol-1-sass-sorcery-rat-queens-collected-editions-1-5_46/index.html',\n 'http://books.toscrape.com/catalogue/paradise-lost-paradise-1_45/index.html',\n 'http://books.toscrape.com/catalogue/paper-girls-vol-1-paper-girls-1-5_44/index.html',\n 'http://books.toscrape.com/catalogue/ouran-high-school-host-club-vol-1-ouran-high-school-host-club-1_43/index.html',\n 'http://books.toscrape.com/catalogue/origins-alphas-05_42/index.html',\n 'http://books.toscrape.com/catalogue/one-second-seven-7_41/index.html',\n 'http://books.toscrape.com/catalogue/on-the-road-duluoz-legend_40/index.html',\n 'http://books.toscrape.com/catalogue/old-records-never-die-one-mans-quest-for-his-vinyl-and-his-past_39/index.html',\n 'http://books.toscrape.com/catalogue/off-sides-off-1_38/index.html',\n 'http://books.toscrape.com/catalogue/of-mice-and-men_37/index.html',\n 'http://books.toscrape.com/catalogue/myriad-prentor-1_36/index.html',\n 'http://books.toscrape.com/catalogue/my-perfect-mistake-over-the-top-1_35/index.html',\n 'http://books.toscrape.com/catalogue/ms-marvel-vol-1-no-normal-ms-marvel-2014-2015-1_34/index.html',\n 'http://books.toscrape.com/catalogue/meditations_33/index.html',\n 'http://books.toscrape.com/catalogue/matilda_32/index.html',\n 'http://books.toscrape.com/catalogue/lost-among-the-living_31/index.html',\n 'http://books.toscrape.com/catalogue/lord-of-the-flies_30/index.html',\n 'http://books.toscrape.com/catalogue/listen-to-me-fusion-1_29/index.html',\n 'http://books.toscrape.com/catalogue/kitchens-of-the-great-midwest_28/index.html',\n 'http://books.toscrape.com/catalogue/jane-eyre_27/index.html',\n 'http://books.toscrape.com/catalogue/imperfect-harmony_26/index.html',\n 'http://books.toscrape.com/catalogue/icing-aces-hockey-2_25/index.html',\n 'http://books.toscrape.com/catalogue/hawkeye-vol-1-my-life-as-a-weapon-hawkeye-1_24/index.html',\n 'http://books.toscrape.com/catalogue/having-the-barbarians-baby-ice-planet-barbarians-75_23/index.html',\n 'http://books.toscrape.com/catalogue/giant-days-vol-1-giant-days-1-4_22/index.html',\n 'http://books.toscrape.com/catalogue/fruits-basket-vol-1-fruits-basket-1_21/index.html',\n 'http://books.toscrape.com/catalogue/frankenstein_20/index.html',\n 'http://books.toscrape.com/catalogue/forever-rockers-the-rocker-12_19/index.html',\n 'http://books.toscrape.com/catalogue/fighting-fate-fighting-6_18/index.html',\n 'http://books.toscrape.com/catalogue/emma_17/index.html',\n 'http://books.toscrape.com/catalogue/eat-pray-love_16/index.html',\n 'http://books.toscrape.com/catalogue/deep-under-walker-security-1_15/index.html',\n 'http://books.toscrape.com/catalogue/choosing-our-religion-the-spiritual-lives-of-americas-nones_14/index.html',\n 'http://books.toscrape.com/catalogue/charlie-and-the-chocolate-factory-charlie-bucket-1_13/index.html',\n 'http://books.toscrape.com/catalogue/charitys-cross-charles-towne-belles-4_12/index.html',\n 'http://books.toscrape.com/catalogue/bright-lines_11/index.html',\n 'http://books.toscrape.com/catalogue/bridget-joness-diary-bridget-jones-1_10/index.html',\n 'http://books.toscrape.com/catalogue/bounty-colorado-mountain-7_9/index.html',\n 'http://books.toscrape.com/catalogue/blood-defense-samantha-brinkman-1_8/index.html',\n 'http://books.toscrape.com/catalogue/bleach-vol-1-strawberry-and-the-soul-reapers-bleach-1_7/index.html',\n 'http://books.toscrape.com/catalogue/beyond-good-and-evil_6/index.html',\n 'http://books.toscrape.com/catalogue/alice-in-wonderland-alices-adventures-in-wonderland-1_5/index.html',\n 'http://books.toscrape.com/catalogue/ajin-demi-human-volume-1-ajin-demi-human-1_4/index.html',\n 'http://books.toscrape.com/catalogue/a-spys-devotion-the-regency-spies-of-london-1_3/index.html',\n 'http://books.toscrape.com/catalogue/1st-to-die-womens-murder-club-1_2/index.html',\n 'http://books.toscrape.com/catalogue/1000-places-to-see-before-you-die_1/index.html']"
          },
          "metadata": {},
          "execution_count": 13
        }
      ],
      "metadata": {
        "tags": []
      }
    },
    {
      "cell_type": "markdown",
      "source": [
        "# Actual Data scraping"
      ],
      "metadata": {}
    },
    {
      "cell_type": "code",
      "source": [
        "%%time\n",
        "names = []\n",
        "prices = []\n",
        "nb_in_stock = []\n",
        "categories = []\n",
        "ratings = []\n",
        "# scrape data for every book URL: this may take some time\n",
        "for url in booksURLs:\n",
        "    soup = getAndParseURL(url)\n",
        "    # product name\n",
        "    names.append(soup.find(\"div\", class_ = re.compile(\"product_main\")).h1.text)\n",
        "    # product price\n",
        "    prices.append(soup.find(\"p\", class_ = \"price_color\").text[2:]) # get rid of the pound sign\n",
        "    # product category\n",
        "    categories.append(soup.find(\"a\", href = re.compile(\"../category/books/\")).get(\"href\").split(\"/\")[3])\n",
        "    # ratings\n",
        "    ratings.append(soup.find(\"p\", class_ = re.compile(\"star-rating\")).get(\"class\")[1])\n",
        "    # number of available products\n",
        "    nb_in_stock.append(re.sub(\"[^0-9]\", \"\", soup.find(\"p\", class_ = \"instock availability\").text)) # get rid of non numerical characters\n",
        "    \n",
        "# add data into pandas df\n",
        "scraped_data = pd.DataFrame({'Name': names, 'Price': prices, \"Category\": categories, \"Rating\": ratings, 'Stock': nb_in_stock})\n",
        "scraped_data"
      ],
      "execution_count": 14,
      "outputs": [
        {
          "output_type": "stream",
          "name": "stdout",
          "text": "Wall time: 15min 40s\n"
        },
        {
          "output_type": "execute_result",
          "data": {
            "text/plain": "                                                  Name  Price  \\\n0                                 A Light in the Attic  51.77   \n1                                   Tipping the Velvet  53.74   \n2                                           Soumission  50.10   \n3                                        Sharp Objects  47.82   \n4                Sapiens: A Brief History of Humankind  54.23   \n..                                                 ...    ...   \n995  Alice in Wonderland (Alice's Adventures in Won...  55.53   \n996   Ajin: Demi-Human, Volume 1 (Ajin: Demi-Human #1)  57.06   \n997  A Spy's Devotion (The Regency Spies of London #1)  16.97   \n998                1st to Die (Women's Murder Club #1)  53.98   \n999                 1,000 Places to See Before You Die  26.08   \n\n                 Category Rating Stock  \n0               poetry_23  Three    22  \n1    historical-fiction_4    One    20  \n2              fiction_10    One    20  \n3               mystery_3   Four    20  \n4              history_32   Five    20  \n..                    ...    ...   ...  \n995            classics_6    One     1  \n996      sequential-art_5   Four     1  \n997  historical-fiction_4   Five     1  \n998             mystery_3    One     1  \n999              travel_2   Five     1  \n\n[1000 rows x 5 columns]",
            "text/html": "<div>\n<style scoped>\n    .dataframe tbody tr th:only-of-type {\n        vertical-align: middle;\n    }\n\n    .dataframe tbody tr th {\n        vertical-align: top;\n    }\n\n    .dataframe thead th {\n        text-align: right;\n    }\n</style>\n<table border=\"1\" class=\"dataframe\">\n  <thead>\n    <tr style=\"text-align: right;\">\n      <th></th>\n      <th>Name</th>\n      <th>Price</th>\n      <th>Category</th>\n      <th>Rating</th>\n      <th>Stock</th>\n    </tr>\n  </thead>\n  <tbody>\n    <tr>\n      <th>0</th>\n      <td>A Light in the Attic</td>\n      <td>51.77</td>\n      <td>poetry_23</td>\n      <td>Three</td>\n      <td>22</td>\n    </tr>\n    <tr>\n      <th>1</th>\n      <td>Tipping the Velvet</td>\n      <td>53.74</td>\n      <td>historical-fiction_4</td>\n      <td>One</td>\n      <td>20</td>\n    </tr>\n    <tr>\n      <th>2</th>\n      <td>Soumission</td>\n      <td>50.10</td>\n      <td>fiction_10</td>\n      <td>One</td>\n      <td>20</td>\n    </tr>\n    <tr>\n      <th>3</th>\n      <td>Sharp Objects</td>\n      <td>47.82</td>\n      <td>mystery_3</td>\n      <td>Four</td>\n      <td>20</td>\n    </tr>\n    <tr>\n      <th>4</th>\n      <td>Sapiens: A Brief History of Humankind</td>\n      <td>54.23</td>\n      <td>history_32</td>\n      <td>Five</td>\n      <td>20</td>\n    </tr>\n    <tr>\n      <th>...</th>\n      <td>...</td>\n      <td>...</td>\n      <td>...</td>\n      <td>...</td>\n      <td>...</td>\n    </tr>\n    <tr>\n      <th>995</th>\n      <td>Alice in Wonderland (Alice's Adventures in Won...</td>\n      <td>55.53</td>\n      <td>classics_6</td>\n      <td>One</td>\n      <td>1</td>\n    </tr>\n    <tr>\n      <th>996</th>\n      <td>Ajin: Demi-Human, Volume 1 (Ajin: Demi-Human #1)</td>\n      <td>57.06</td>\n      <td>sequential-art_5</td>\n      <td>Four</td>\n      <td>1</td>\n    </tr>\n    <tr>\n      <th>997</th>\n      <td>A Spy's Devotion (The Regency Spies of London #1)</td>\n      <td>16.97</td>\n      <td>historical-fiction_4</td>\n      <td>Five</td>\n      <td>1</td>\n    </tr>\n    <tr>\n      <th>998</th>\n      <td>1st to Die (Women's Murder Club #1)</td>\n      <td>53.98</td>\n      <td>mystery_3</td>\n      <td>One</td>\n      <td>1</td>\n    </tr>\n    <tr>\n      <th>999</th>\n      <td>1,000 Places to See Before You Die</td>\n      <td>26.08</td>\n      <td>travel_2</td>\n      <td>Five</td>\n      <td>1</td>\n    </tr>\n  </tbody>\n</table>\n<p>1000 rows × 5 columns</p>\n</div>"
          },
          "metadata": {},
          "execution_count": 14
        }
      ],
      "metadata": {
        "tags": []
      }
    },
    {
      "cell_type": "markdown",
      "source": [
        "# Post Processing"
      ],
      "metadata": {}
    },
    {
      "cell_type": "code",
      "source": [
        "scraped_data[\"Category\"]=scraped_data[\"Category\"].apply(lambda x: x.split(\"_\")[0])\n",
        "scraped_data[\"Category\"]"
      ],
      "execution_count": 15,
      "outputs": [
        {
          "output_type": "execute_result",
          "data": {
            "text/plain": "0                  poetry\n1      historical-fiction\n2                 fiction\n3                 mystery\n4                 history\n              ...        \n995              classics\n996        sequential-art\n997    historical-fiction\n998               mystery\n999                travel\nName: Category, Length: 1000, dtype: object"
          },
          "metadata": {},
          "execution_count": 15
        }
      ],
      "metadata": {}
    },
    {
      "cell_type": "code",
      "source": [
        "categories=scraped_data[\"Category\"].unique()\n",
        "print(categories)\n",
        "print(len(categories))"
      ],
      "execution_count": 16,
      "outputs": [
        {
          "output_type": "stream",
          "name": "stdout",
          "text": "['poetry' 'historical-fiction' 'fiction' 'mystery' 'history' 'young-adult'\n 'business' 'default' 'sequential-art' 'music' 'science-fiction'\n 'politics' 'travel' 'thriller' 'food-and-drink' 'romance' 'childrens'\n 'nonfiction' 'art' 'spirituality' 'philosophy' 'new-adult' 'contemporary'\n 'fantasy' 'add-a-comment' 'science' 'health' 'horror' 'self-help'\n 'religion' 'christian' 'crime' 'autobiography' 'christian-fiction'\n 'biography' 'womens-fiction' 'erotica' 'cultural' 'psychology' 'humor'\n 'historical' 'novels' 'short-stories' 'suspense' 'classics' 'academic'\n 'sports-and-games' 'adult-fiction' 'parenting' 'paranormal']\n50\n"
        }
      ],
      "metadata": {
        "tags": []
      }
    },
    {
      "cell_type": "code",
      "source": [
        "\n",
        "rating_map={\n",
        "    \"One\":1,\n",
        "    \"Two\":2,\n",
        "    \"Three\":3,\n",
        "    \"Four\":4,\n",
        "    \"Five\":5\n",
        "}\n",
        "\n",
        "# print(type(scraped_data[\"Rating\"][0]) is str)\n",
        "scraped_data[\"Rating\"]=[rating_map.get(x) for x in scraped_data[\"Rating\"] if type(x) is str]"
      ],
      "execution_count": 17,
      "outputs": [],
      "metadata": {}
    },
    {
      "cell_type": "code",
      "source": [
        "scraped_data"
      ],
      "execution_count": 18,
      "outputs": [
        {
          "output_type": "execute_result",
          "data": {
            "text/plain": "                                                  Name  Price  \\\n0                                 A Light in the Attic  51.77   \n1                                   Tipping the Velvet  53.74   \n2                                           Soumission  50.10   \n3                                        Sharp Objects  47.82   \n4                Sapiens: A Brief History of Humankind  54.23   \n..                                                 ...    ...   \n995  Alice in Wonderland (Alice's Adventures in Won...  55.53   \n996   Ajin: Demi-Human, Volume 1 (Ajin: Demi-Human #1)  57.06   \n997  A Spy's Devotion (The Regency Spies of London #1)  16.97   \n998                1st to Die (Women's Murder Club #1)  53.98   \n999                 1,000 Places to See Before You Die  26.08   \n\n               Category  Rating Stock  \n0                poetry       3    22  \n1    historical-fiction       1    20  \n2               fiction       1    20  \n3               mystery       4    20  \n4               history       5    20  \n..                  ...     ...   ...  \n995            classics       1     1  \n996      sequential-art       4     1  \n997  historical-fiction       5     1  \n998             mystery       1     1  \n999              travel       5     1  \n\n[1000 rows x 5 columns]",
            "text/html": "<div>\n<style scoped>\n    .dataframe tbody tr th:only-of-type {\n        vertical-align: middle;\n    }\n\n    .dataframe tbody tr th {\n        vertical-align: top;\n    }\n\n    .dataframe thead th {\n        text-align: right;\n    }\n</style>\n<table border=\"1\" class=\"dataframe\">\n  <thead>\n    <tr style=\"text-align: right;\">\n      <th></th>\n      <th>Name</th>\n      <th>Price</th>\n      <th>Category</th>\n      <th>Rating</th>\n      <th>Stock</th>\n    </tr>\n  </thead>\n  <tbody>\n    <tr>\n      <th>0</th>\n      <td>A Light in the Attic</td>\n      <td>51.77</td>\n      <td>poetry</td>\n      <td>3</td>\n      <td>22</td>\n    </tr>\n    <tr>\n      <th>1</th>\n      <td>Tipping the Velvet</td>\n      <td>53.74</td>\n      <td>historical-fiction</td>\n      <td>1</td>\n      <td>20</td>\n    </tr>\n    <tr>\n      <th>2</th>\n      <td>Soumission</td>\n      <td>50.10</td>\n      <td>fiction</td>\n      <td>1</td>\n      <td>20</td>\n    </tr>\n    <tr>\n      <th>3</th>\n      <td>Sharp Objects</td>\n      <td>47.82</td>\n      <td>mystery</td>\n      <td>4</td>\n      <td>20</td>\n    </tr>\n    <tr>\n      <th>4</th>\n      <td>Sapiens: A Brief History of Humankind</td>\n      <td>54.23</td>\n      <td>history</td>\n      <td>5</td>\n      <td>20</td>\n    </tr>\n    <tr>\n      <th>...</th>\n      <td>...</td>\n      <td>...</td>\n      <td>...</td>\n      <td>...</td>\n      <td>...</td>\n    </tr>\n    <tr>\n      <th>995</th>\n      <td>Alice in Wonderland (Alice's Adventures in Won...</td>\n      <td>55.53</td>\n      <td>classics</td>\n      <td>1</td>\n      <td>1</td>\n    </tr>\n    <tr>\n      <th>996</th>\n      <td>Ajin: Demi-Human, Volume 1 (Ajin: Demi-Human #1)</td>\n      <td>57.06</td>\n      <td>sequential-art</td>\n      <td>4</td>\n      <td>1</td>\n    </tr>\n    <tr>\n      <th>997</th>\n      <td>A Spy's Devotion (The Regency Spies of London #1)</td>\n      <td>16.97</td>\n      <td>historical-fiction</td>\n      <td>5</td>\n      <td>1</td>\n    </tr>\n    <tr>\n      <th>998</th>\n      <td>1st to Die (Women's Murder Club #1)</td>\n      <td>53.98</td>\n      <td>mystery</td>\n      <td>1</td>\n      <td>1</td>\n    </tr>\n    <tr>\n      <th>999</th>\n      <td>1,000 Places to See Before You Die</td>\n      <td>26.08</td>\n      <td>travel</td>\n      <td>5</td>\n      <td>1</td>\n    </tr>\n  </tbody>\n</table>\n<p>1000 rows × 5 columns</p>\n</div>"
          },
          "metadata": {},
          "execution_count": 18
        }
      ],
      "metadata": {}
    },
    {
      "cell_type": "code",
      "source": [
        "scraped_data=scraped_data.astype({\"Price\": \"float32\"}).astype({\"Stock\": \"int32\"})"
      ],
      "execution_count": 19,
      "outputs": [],
      "metadata": {}
    },
    {
      "cell_type": "code",
      "source": [
        "data_dir=\"./data/\"\n",
        "if not os.path.exists(data_dir):\n",
        "    os.makedirs(data_dir)\n",
        "scraped_data.to_csv(f\"{data_dir}/csv/scraped_books.csv\")"
      ],
      "execution_count": 1,
      "outputs": [
        {
          "output_type": "error",
          "ename": "NameError",
          "evalue": "name 'scraped_data' is not defined",
          "traceback": [
            "\u001b[1;31m---------------------------------------------------------------------------\u001b[0m",
            "\u001b[1;31mNameError\u001b[0m                                 Traceback (most recent call last)",
            "\u001b[1;32m<ipython-input-1-3b2430edbb56>\u001b[0m in \u001b[0;36m<module>\u001b[1;34m\u001b[0m\n\u001b[0;32m      2\u001b[0m \u001b[1;32mif\u001b[0m \u001b[1;32mnot\u001b[0m \u001b[0mos\u001b[0m\u001b[1;33m.\u001b[0m\u001b[0mpath\u001b[0m\u001b[1;33m.\u001b[0m\u001b[0mexists\u001b[0m\u001b[1;33m(\u001b[0m\u001b[0mdata_dir\u001b[0m\u001b[1;33m)\u001b[0m\u001b[1;33m:\u001b[0m\u001b[1;33m\u001b[0m\u001b[1;33m\u001b[0m\u001b[0m\n\u001b[0;32m      3\u001b[0m     \u001b[0mos\u001b[0m\u001b[1;33m.\u001b[0m\u001b[0mmakedirs\u001b[0m\u001b[1;33m(\u001b[0m\u001b[0mdata_dir\u001b[0m\u001b[1;33m)\u001b[0m\u001b[1;33m\u001b[0m\u001b[1;33m\u001b[0m\u001b[0m\n\u001b[1;32m----> 4\u001b[1;33m \u001b[0mscraped_data\u001b[0m\u001b[1;33m.\u001b[0m\u001b[0mto_csv\u001b[0m\u001b[1;33m(\u001b[0m\u001b[1;34mf\"{data_dir}/csv/scraped_books.csv\"\u001b[0m\u001b[1;33m)\u001b[0m\u001b[1;33m\u001b[0m\u001b[1;33m\u001b[0m\u001b[0m\n\u001b[0m",
            "\u001b[1;31mNameError\u001b[0m: name 'scraped_data' is not defined"
          ]
        }
      ],
      "metadata": {}
    },
    {
      "cell_type": "code",
      "source": [
        "!ls -lah data"
      ],
      "execution_count": 21,
      "outputs": [
        {
          "output_type": "stream",
          "name": "stderr",
          "text": "'ls' is not recognized as an internal or external command,\noperable program or batch file.\n"
        }
      ],
      "metadata": {
        "tags": []
      }
    },
    {
      "cell_type": "markdown",
      "source": [
        "Lets try some data analysis"
      ],
      "metadata": {}
    },
    {
      "cell_type": "code",
      "source": [
        "scraped_data.dtypes"
      ],
      "execution_count": 22,
      "outputs": [
        {
          "output_type": "execute_result",
          "data": {
            "text/plain": "Name         object\nPrice       float32\nCategory     object\nRating        int64\nStock         int32\ndtype: object"
          },
          "metadata": {},
          "execution_count": 22
        }
      ],
      "metadata": {}
    },
    {
      "cell_type": "code",
      "source": [
        "scraped_data.describe()"
      ],
      "execution_count": 23,
      "outputs": [
        {
          "output_type": "execute_result",
          "data": {
            "text/plain": "             Price       Rating        Stock\ncount  1000.000000  1000.000000  1000.000000\nmean     35.070351     2.923000     8.585000\nstd      14.446690     1.434967     5.654622\nmin      10.000000     1.000000     1.000000\n25%      22.107501     2.000000     3.000000\n50%      35.980000     3.000000     7.000000\n75%      47.457499     4.000000    14.000000\nmax      59.990002     5.000000    22.000000",
            "text/html": "<div>\n<style scoped>\n    .dataframe tbody tr th:only-of-type {\n        vertical-align: middle;\n    }\n\n    .dataframe tbody tr th {\n        vertical-align: top;\n    }\n\n    .dataframe thead th {\n        text-align: right;\n    }\n</style>\n<table border=\"1\" class=\"dataframe\">\n  <thead>\n    <tr style=\"text-align: right;\">\n      <th></th>\n      <th>Price</th>\n      <th>Rating</th>\n      <th>Stock</th>\n    </tr>\n  </thead>\n  <tbody>\n    <tr>\n      <th>count</th>\n      <td>1000.000000</td>\n      <td>1000.000000</td>\n      <td>1000.000000</td>\n    </tr>\n    <tr>\n      <th>mean</th>\n      <td>35.070351</td>\n      <td>2.923000</td>\n      <td>8.585000</td>\n    </tr>\n    <tr>\n      <th>std</th>\n      <td>14.446690</td>\n      <td>1.434967</td>\n      <td>5.654622</td>\n    </tr>\n    <tr>\n      <th>min</th>\n      <td>10.000000</td>\n      <td>1.000000</td>\n      <td>1.000000</td>\n    </tr>\n    <tr>\n      <th>25%</th>\n      <td>22.107501</td>\n      <td>2.000000</td>\n      <td>3.000000</td>\n    </tr>\n    <tr>\n      <th>50%</th>\n      <td>35.980000</td>\n      <td>3.000000</td>\n      <td>7.000000</td>\n    </tr>\n    <tr>\n      <th>75%</th>\n      <td>47.457499</td>\n      <td>4.000000</td>\n      <td>14.000000</td>\n    </tr>\n    <tr>\n      <th>max</th>\n      <td>59.990002</td>\n      <td>5.000000</td>\n      <td>22.000000</td>\n    </tr>\n  </tbody>\n</table>\n</div>"
          },
          "metadata": {},
          "execution_count": 23
        }
      ],
      "metadata": {}
    },
    {
      "cell_type": "code",
      "source": [
        "scraped_data[\"Category\"].value_counts()"
      ],
      "execution_count": 24,
      "outputs": [
        {
          "output_type": "execute_result",
          "data": {
            "text/plain": "default               152\nnonfiction            110\nsequential-art         75\nadd-a-comment          67\nfiction                65\nyoung-adult            54\nfantasy                48\nromance                35\nmystery                32\nfood-and-drink         30\nchildrens              29\nhistorical-fiction     26\npoetry                 19\nclassics               19\nhistory                18\nhorror                 17\nwomens-fiction         17\nscience-fiction        16\nscience                14\nmusic                  13\nbusiness               12\nphilosophy             11\ntravel                 11\nthriller               11\nhumor                  10\nautobiography           9\nart                     8\npsychology              7\nreligion                7\nnew-adult               6\nchristian-fiction       6\nspirituality            6\nbiography               5\nself-help               5\nsports-and-games        5\nhealth                  4\nchristian               3\ncontemporary            3\npolitics                3\nhistorical              2\ncultural                1\nadult-fiction           1\nsuspense                1\nparenting               1\nshort-stories           1\nerotica                 1\nacademic                1\ncrime                   1\nparanormal              1\nnovels                  1\nName: Category, dtype: int64"
          },
          "metadata": {},
          "execution_count": 24
        }
      ],
      "metadata": {}
    },
    {
      "cell_type": "markdown",
      "source": [
        "Thats all for this section, onto the next one!"
      ],
      "metadata": {}
    }
  ],
  "metadata": {
    "kernelspec": {
      "name": "python37364bitwebinar1pipenvcf70b7d6d5f841b58da6fc72877726cc",
      "display_name": "Python 3.7.3 64-bit ('webinar#1': pipenv)"
    }
  },
  "nbformat": 4,
  "nbformat_minor": 0
}